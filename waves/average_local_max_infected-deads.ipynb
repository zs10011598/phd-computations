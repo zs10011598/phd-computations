{
 "cells": [
  {
   "cell_type": "code",
   "execution_count": 18,
   "metadata": {},
   "outputs": [],
   "source": [
    "import os\n",
    "import pandas\n",
    "import psycopg2\n",
    "import datetime\n",
    "\n",
    "import psycopg2.extras\n",
    "\n",
    "from sqlalchemy import create_engine"
   ]
  },
  {
   "cell_type": "code",
   "execution_count": 2,
   "metadata": {},
   "outputs": [
    {
     "data": {
      "application/javascript": [
       "\n",
       "        if (window._pyforest_update_imports_cell) { window._pyforest_update_imports_cell('import pandas as pd'); }\n",
       "    "
      ],
      "text/plain": [
       "<IPython.core.display.Javascript object>"
      ]
     },
     "metadata": {},
     "output_type": "display_data"
    },
    {
     "data": {
      "text/plain": [
       "(18006615, 3)"
      ]
     },
     "execution_count": 2,
     "metadata": {},
     "output_type": "execute_result"
    }
   ],
   "source": [
    "## Getting data from DGE's file\n",
    "\n",
    "df = pd.read_csv(\n",
    "    '../data/220817COVID19MEXICO.tar.gz', \n",
    "    compression='gzip', \n",
    "    error_bad_lines=False,\n",
    "    usecols=['FECHA_SINTOMAS', 'FECHA_DEF', 'CLASIFICACION_FINAL'])\n",
    "df.shape"
   ]
  },
  {
   "cell_type": "code",
   "execution_count": 3,
   "metadata": {},
   "outputs": [
    {
     "data": {
      "text/html": [
       "<div>\n",
       "<style scoped>\n",
       "    .dataframe tbody tr th:only-of-type {\n",
       "        vertical-align: middle;\n",
       "    }\n",
       "\n",
       "    .dataframe tbody tr th {\n",
       "        vertical-align: top;\n",
       "    }\n",
       "\n",
       "    .dataframe thead th {\n",
       "        text-align: right;\n",
       "    }\n",
       "</style>\n",
       "<table border=\"1\" class=\"dataframe\">\n",
       "  <thead>\n",
       "    <tr style=\"text-align: right;\">\n",
       "      <th></th>\n",
       "      <th>FECHA_SINTOMAS</th>\n",
       "      <th>FECHA_DEF</th>\n",
       "      <th>CLASIFICACION_FINAL</th>\n",
       "    </tr>\n",
       "  </thead>\n",
       "  <tbody>\n",
       "    <tr>\n",
       "      <th>0</th>\n",
       "      <td>2020-11-30</td>\n",
       "      <td>9999-99-99</td>\n",
       "      <td>3</td>\n",
       "    </tr>\n",
       "    <tr>\n",
       "      <th>1</th>\n",
       "      <td>2021-01-13</td>\n",
       "      <td>9999-99-99</td>\n",
       "      <td>7</td>\n",
       "    </tr>\n",
       "    <tr>\n",
       "      <th>2</th>\n",
       "      <td>2020-02-18</td>\n",
       "      <td>9999-99-99</td>\n",
       "      <td>6</td>\n",
       "    </tr>\n",
       "    <tr>\n",
       "      <th>3</th>\n",
       "      <td>2020-04-18</td>\n",
       "      <td>9999-99-99</td>\n",
       "      <td>7</td>\n",
       "    </tr>\n",
       "    <tr>\n",
       "      <th>4</th>\n",
       "      <td>2020-07-20</td>\n",
       "      <td>9999-99-99</td>\n",
       "      <td>3</td>\n",
       "    </tr>\n",
       "  </tbody>\n",
       "</table>\n",
       "</div>"
      ],
      "text/plain": [
       "  FECHA_SINTOMAS   FECHA_DEF  CLASIFICACION_FINAL\n",
       "0     2020-11-30  9999-99-99                    3\n",
       "1     2021-01-13  9999-99-99                    7\n",
       "2     2020-02-18  9999-99-99                    6\n",
       "3     2020-04-18  9999-99-99                    7\n",
       "4     2020-07-20  9999-99-99                    3"
      ]
     },
     "execution_count": 3,
     "metadata": {},
     "output_type": "execute_result"
    }
   ],
   "source": [
    "## Processing DGE data\n",
    "\n",
    "#df[df['CLASIFICACION_FINAL'].isna()].head()\n",
    "df.dropna(axis=0, subset=['CLASIFICACION_FINAL'], inplace=True)\n",
    "df['CLASIFICACION_FINAL'] = df['CLASIFICACION_FINAL'].astype(int)\n",
    "df.head()"
   ]
  },
  {
   "cell_type": "code",
   "execution_count": 4,
   "metadata": {},
   "outputs": [],
   "source": [
    "## Reading DB credentials\n",
    "\n",
    "dbname = os.environ['DBNAME']\n",
    "dbport = os.environ['DBPORT']\n",
    "dbhost = os.environ['DBHOST']\n",
    "dbuser = os.environ['DBUSER']\n",
    "dbpass = os.environ['DBPASS']"
   ]
  },
  {
   "cell_type": "code",
   "execution_count": 17,
   "metadata": {},
   "outputs": [
    {
     "name": "stdout",
     "output_type": "stream",
     "text": [
      "RealDictRow([('id', 1), ('clasificacion_final', 'NEGATIVO A SARS-COV-2 POR LABORATORIO')])\n",
      "RealDictRow([('id', 2), ('clasificacion_final', 'CASO DE COVID-19 CONFIRMADO POR ASOCIACIÓN CLÍNICA EPIDEMIOLÓGICA')])\n",
      "RealDictRow([('id', 3), ('clasificacion_final', 'CASO DE SARS-COV-2  CONFIRMADO POR LABORATORIO')])\n",
      "RealDictRow([('id', 4), ('clasificacion_final', 'NO REALIZADO POR LABORATORIO')])\n",
      "RealDictRow([('id', 5), ('clasificacion_final', 'CASO DE COVID-19 CONFIRMADO POR COMITÉ DE  DICTAMINACIÓN')])\n",
      "RealDictRow([('id', 6), ('clasificacion_final', 'INVÁLIDO POR LABORATORIO')])\n",
      "RealDictRow([('id', 7), ('clasificacion_final', 'CASO SOSPECHOSO')])\n"
     ]
    }
   ],
   "source": [
    "## Getting covariables from Epi-PUMA DB\n",
    "\n",
    "connection = psycopg2.connect(\n",
    "    host=dbhost,\n",
    "    port=dbport,\n",
    "    database=dbname,\n",
    "    user=dbuser,\n",
    "    password=dbpass)\n",
    "cursr = connection.cursor(cursor_factory = psycopg2.extras.RealDictCursor)\n",
    "\n",
    "cursr.execute(\"SELECT id, clasificacion_final FROM covariable\")\n",
    "results = cursr.fetchall()\n",
    "\n",
    "for covariable in results:\n",
    "    print(covariable)\n",
    "    \n",
    "cursr.close()\n",
    "connection.close()"
   ]
  },
  {
   "cell_type": "code",
   "execution_count": null,
   "metadata": {},
   "outputs": [
    {
     "data": {
      "application/javascript": [
       "\n",
       "        if (window._pyforest_update_imports_cell) { window._pyforest_update_imports_cell('import pandas as pd'); }\n",
       "    "
      ],
      "text/plain": [
       "<IPython.core.display.Javascript object>"
      ]
     },
     "metadata": {},
     "output_type": "display_data"
    }
   ],
   "source": [
    "## Getting data from Epi-PUMA DB\n",
    "\n",
    "infected = [5, 2, 3, 7]\n",
    "\n",
    "sql = \"SELECT date_occurrence, fecha_def, clasificacion_final \\\n",
    "        FROM occurrence where covariable_id in ({0})\"\\\n",
    "        .format(','.join([str(strid) for strid in infected]))\n",
    "\n",
    "engine = create_engine('postgresql://{0}:{1}@{2}:{3}/{4}'.format(\n",
    "    dbuser,\n",
    "    dbpass,\n",
    "    dbhost,\n",
    "    dbport,\n",
    "    dbname\n",
    "))\n",
    "\n",
    "dfdb = pd.read_sql(sql, engine)\n",
    "dfdb.head()"
   ]
  },
  {
   "cell_type": "code",
   "execution_count": null,
   "metadata": {},
   "outputs": [],
   "source": []
  }
 ],
 "metadata": {
  "kernelspec": {
   "display_name": "Python 3",
   "language": "python",
   "name": "python3"
  },
  "language_info": {
   "codemirror_mode": {
    "name": "ipython",
    "version": 3
   },
   "file_extension": ".py",
   "mimetype": "text/x-python",
   "name": "python",
   "nbconvert_exporter": "python",
   "pygments_lexer": "ipython3",
   "version": "3.7.4"
  }
 },
 "nbformat": 4,
 "nbformat_minor": 2
}
